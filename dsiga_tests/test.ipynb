{
 "cells": [
  {
   "cell_type": "code",
   "execution_count": 2,
   "metadata": {},
   "outputs": [
    {
     "name": "stdout",
     "output_type": "stream",
     "text": [
      "ClearML Task: created new task id=34ea4277c66b4ac7959e223f0abedb13\n",
      "ClearML results page: https://app.clear.ml/projects/e200f9b7b3ee4eec835cf001ed460fef/experiments/34ea4277c66b4ac7959e223f0abedb13/output/log\n"
     ]
    },
    {
     "name": "stdout",
     "output_type": "stream",
     "text": [
      "2022-11-09 19:29:21,133 - clearml.Task - INFO - Storing jupyter notebook directly as code\n"
     ]
    }
   ],
   "source": [
    "import numpy as np\n",
    "import matplotlib.pyplot as plt\n",
    "\n",
    "# Add the following two lines to your code, to have ClearML automatically log your experiment\n",
    "from clearml import Task\n",
    "task = Task.init(project_name='My Project', task_name='My Experiment')\n",
    "\n"
   ]
  },
  {
   "cell_type": "code",
   "execution_count": null,
   "metadata": {},
   "outputs": [],
   "source": [
    "\n",
    "# Create a plot using matplotlib, or you can also use plotly\n",
    "plt.scatter(np.random.rand(50), np.random.rand(50), s=area, c=np.random.rand(10), alpha=0.5)\n",
    "# Plot will be reported automatically to clearml\n",
    "plt.show()\n",
    "\n",
    "# Report some scalars\n",
    "for i in range(100):\n",
    "  task.get_logger().report_scalar(title=\"graph title\", series=\"linear\", value=i*2, iteration=i)\n"
   ]
  },
  {
   "cell_type": "code",
   "execution_count": null,
   "metadata": {},
   "outputs": [],
   "source": []
  },
  {
   "cell_type": "code",
   "execution_count": null,
   "metadata": {},
   "outputs": [],
   "source": []
  }
 ],
 "metadata": {
  "kernelspec": {
   "display_name": "Python 3.9.13 ('clearml')",
   "language": "python",
   "name": "python3"
  },
  "language_info": {
   "codemirror_mode": {
    "name": "ipython",
    "version": 3
   },
   "file_extension": ".py",
   "mimetype": "text/x-python",
   "name": "python",
   "nbconvert_exporter": "python",
   "pygments_lexer": "ipython3",
   "version": "3.9.13"
  },
  "orig_nbformat": 4,
  "vscode": {
   "interpreter": {
    "hash": "cea2ad9f411150eafff34b9ddb004ce6ab8779fabde9f0e696c28653153f13c1"
   }
  }
 },
 "nbformat": 4,
 "nbformat_minor": 2
}
