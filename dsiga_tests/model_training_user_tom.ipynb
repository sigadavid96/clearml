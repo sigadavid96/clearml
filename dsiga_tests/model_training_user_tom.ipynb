{
 "cells": [
  {
   "cell_type": "markdown",
   "metadata": {},
   "source": [
    "Experiment Name : Decision Tree\n",
    " \n",
    "User : Tom Doe (dtom)"
   ]
  },
  {
   "cell_type": "markdown",
   "metadata": {},
   "source": [
    "Importing Relavant Libraries"
   ]
  },
  {
   "cell_type": "code",
   "execution_count": 1,
   "metadata": {},
   "outputs": [],
   "source": [
    "# data analysis and wrangling\n",
    "import pandas as pd\n",
    "import numpy as np\n",
    "import random as rnd\n",
    "\n",
    "# visualization\n",
    "import seaborn as sns\n",
    "import matplotlib.pyplot as plt\n",
    "%matplotlib inline\n",
    "\n",
    "# machine learning\n",
    "from sklearn.model_selection import train_test_split\n",
    "from sklearn.linear_model import LogisticRegression\n",
    "from sklearn.svm import SVC, LinearSVC\n",
    "from sklearn.ensemble import RandomForestClassifier\n",
    "from sklearn.neighbors import KNeighborsClassifier\n",
    "from sklearn.naive_bayes import GaussianNB\n",
    "from sklearn.linear_model import Perceptron\n",
    "from sklearn.linear_model import SGDClassifier\n",
    "from sklearn.tree import DecisionTreeClassifier\n",
    "from sklearn.model_selection import learning_curve\n",
    "\n",
    "\n",
    "#clearml\n",
    "from clearml import Task, Logger\n",
    "\n",
    "\n",
    "#joblib\n",
    "try:\n",
    "    import joblib\n",
    "except ImportError:\n",
    "    from sklearn.externals import joblib\n"
   ]
  },
  {
   "cell_type": "markdown",
   "metadata": {},
   "source": [
    "Connecting ClearML"
   ]
  },
  {
   "cell_type": "code",
   "execution_count": 2,
   "metadata": {},
   "outputs": [
    {
     "name": "stdout",
     "output_type": "stream",
     "text": [
      "ClearML Task: created new task id=027f785e36094f45a79fe4f4923d362e\n",
      "2022-11-10 05:32:05,700 - clearml.Task - INFO - Storing jupyter notebook directly as code\n",
      "ClearML results page: https://app.clear.ml/projects/99ef1f8d69624d71b5de4a2c3f168b18/experiments/027f785e36094f45a79fe4f4923d362e/output/log\n"
     ]
    }
   ],
   "source": [
    "# Connecting ClearML\n",
    "from clearml import Task\n",
    "task = Task.init(project_name='Movie Rating Prediction', task_name='Decision Tree v1 on Data 1')"
   ]
  },
  {
   "cell_type": "code",
   "execution_count": 3,
   "metadata": {},
   "outputs": [
    {
     "data": {
      "text/html": [
       "<div>\n",
       "<style scoped>\n",
       "    .dataframe tbody tr th:only-of-type {\n",
       "        vertical-align: middle;\n",
       "    }\n",
       "\n",
       "    .dataframe tbody tr th {\n",
       "        vertical-align: top;\n",
       "    }\n",
       "\n",
       "    .dataframe thead th {\n",
       "        text-align: right;\n",
       "    }\n",
       "</style>\n",
       "<table border=\"1\" class=\"dataframe\">\n",
       "  <thead>\n",
       "    <tr style=\"text-align: right;\">\n",
       "      <th></th>\n",
       "      <th>MovieIDs</th>\n",
       "      <th>MovieName</th>\n",
       "      <th>Category</th>\n",
       "      <th>ID</th>\n",
       "      <th>MovieID</th>\n",
       "      <th>Ratings</th>\n",
       "      <th>TimeStamp</th>\n",
       "      <th>UserID</th>\n",
       "      <th>Gender</th>\n",
       "      <th>Age</th>\n",
       "      <th>Occupation</th>\n",
       "      <th>Zip-code</th>\n",
       "      <th>age_group</th>\n",
       "    </tr>\n",
       "  </thead>\n",
       "  <tbody>\n",
       "    <tr>\n",
       "      <th>0</th>\n",
       "      <td>2487.0</td>\n",
       "      <td>Blood, Guts, Bullets and Octane (1998)</td>\n",
       "      <td>Action|Comedy</td>\n",
       "      <td>19</td>\n",
       "      <td>3081</td>\n",
       "      <td>4</td>\n",
       "      <td>978555317</td>\n",
       "      <td>2419.0</td>\n",
       "      <td>M</td>\n",
       "      <td>25.0</td>\n",
       "      <td>0.0</td>\n",
       "      <td>06096</td>\n",
       "      <td>20-29</td>\n",
       "    </tr>\n",
       "    <tr>\n",
       "      <th>1</th>\n",
       "      <td>2325.0</td>\n",
       "      <td>Orgazmo (1997)</td>\n",
       "      <td>Comedy</td>\n",
       "      <td>19</td>\n",
       "      <td>3863</td>\n",
       "      <td>4</td>\n",
       "      <td>978554522</td>\n",
       "      <td>2257.0</td>\n",
       "      <td>F</td>\n",
       "      <td>18.0</td>\n",
       "      <td>4.0</td>\n",
       "      <td>59715</td>\n",
       "      <td>10-19</td>\n",
       "    </tr>\n",
       "    <tr>\n",
       "      <th>2</th>\n",
       "      <td>3489.0</td>\n",
       "      <td>Hook (1991)</td>\n",
       "      <td>Adventure|Fantasy</td>\n",
       "      <td>26</td>\n",
       "      <td>592</td>\n",
       "      <td>3</td>\n",
       "      <td>978146876</td>\n",
       "      <td>3421.0</td>\n",
       "      <td>M</td>\n",
       "      <td>45.0</td>\n",
       "      <td>7.0</td>\n",
       "      <td>94501</td>\n",
       "      <td>40-49</td>\n",
       "    </tr>\n",
       "    <tr>\n",
       "      <th>3</th>\n",
       "      <td>3042.0</td>\n",
       "      <td>Meatballs III (1987)</td>\n",
       "      <td>Comedy</td>\n",
       "      <td>23</td>\n",
       "      <td>3700</td>\n",
       "      <td>4</td>\n",
       "      <td>978464211</td>\n",
       "      <td>2974.0</td>\n",
       "      <td>M</td>\n",
       "      <td>18.0</td>\n",
       "      <td>4.0</td>\n",
       "      <td>48105</td>\n",
       "      <td>10-19</td>\n",
       "    </tr>\n",
       "    <tr>\n",
       "      <th>4</th>\n",
       "      <td>2250.0</td>\n",
       "      <td>Men Don't Leave (1990)</td>\n",
       "      <td>Drama</td>\n",
       "      <td>18</td>\n",
       "      <td>2014</td>\n",
       "      <td>2</td>\n",
       "      <td>978155339</td>\n",
       "      <td>2182.0</td>\n",
       "      <td>F</td>\n",
       "      <td>25.0</td>\n",
       "      <td>4.0</td>\n",
       "      <td>60443</td>\n",
       "      <td>20-29</td>\n",
       "    </tr>\n",
       "    <tr>\n",
       "      <th>...</th>\n",
       "      <td>...</td>\n",
       "      <td>...</td>\n",
       "      <td>...</td>\n",
       "      <td>...</td>\n",
       "      <td>...</td>\n",
       "      <td>...</td>\n",
       "      <td>...</td>\n",
       "      <td>...</td>\n",
       "      <td>...</td>\n",
       "      <td>...</td>\n",
       "      <td>...</td>\n",
       "      <td>...</td>\n",
       "      <td>...</td>\n",
       "    </tr>\n",
       "    <tr>\n",
       "      <th>3488</th>\n",
       "      <td>2231.0</td>\n",
       "      <td>Rounders (1998)</td>\n",
       "      <td>Crime|Drama</td>\n",
       "      <td>18</td>\n",
       "      <td>2872</td>\n",
       "      <td>5</td>\n",
       "      <td>978152515</td>\n",
       "      <td>2163.0</td>\n",
       "      <td>M</td>\n",
       "      <td>18.0</td>\n",
       "      <td>0.0</td>\n",
       "      <td>87122</td>\n",
       "      <td>10-19</td>\n",
       "    </tr>\n",
       "    <tr>\n",
       "      <th>3489</th>\n",
       "      <td>3474.0</td>\n",
       "      <td>Retroactive (1997)</td>\n",
       "      <td>Sci-Fi|Thriller</td>\n",
       "      <td>26</td>\n",
       "      <td>1</td>\n",
       "      <td>3</td>\n",
       "      <td>978130703</td>\n",
       "      <td>3406.0</td>\n",
       "      <td>F</td>\n",
       "      <td>25.0</td>\n",
       "      <td>7.0</td>\n",
       "      <td>85214</td>\n",
       "      <td>20-29</td>\n",
       "    </tr>\n",
       "    <tr>\n",
       "      <th>3490</th>\n",
       "      <td>64.0</td>\n",
       "      <td>Two if by Sea (1996)</td>\n",
       "      <td>Comedy|Romance</td>\n",
       "      <td>2</td>\n",
       "      <td>3468</td>\n",
       "      <td>5</td>\n",
       "      <td>978298542</td>\n",
       "      <td>64.0</td>\n",
       "      <td>M</td>\n",
       "      <td>18.0</td>\n",
       "      <td>1.0</td>\n",
       "      <td>53706</td>\n",
       "      <td>10-19</td>\n",
       "    </tr>\n",
       "    <tr>\n",
       "      <th>3491</th>\n",
       "      <td>1483.0</td>\n",
       "      <td>Crash (1996)</td>\n",
       "      <td>Drama|Thriller</td>\n",
       "      <td>13</td>\n",
       "      <td>2968</td>\n",
       "      <td>3</td>\n",
       "      <td>978202417</td>\n",
       "      <td>1454.0</td>\n",
       "      <td>M</td>\n",
       "      <td>18.0</td>\n",
       "      <td>4.0</td>\n",
       "      <td>93117</td>\n",
       "      <td>10-19</td>\n",
       "    </tr>\n",
       "    <tr>\n",
       "      <th>3492</th>\n",
       "      <td>958.0</td>\n",
       "      <td>Lady of Burlesque (1943)</td>\n",
       "      <td>Comedy|Mystery</td>\n",
       "      <td>10</td>\n",
       "      <td>3114</td>\n",
       "      <td>4</td>\n",
       "      <td>978225759</td>\n",
       "      <td>947.0</td>\n",
       "      <td>M</td>\n",
       "      <td>18.0</td>\n",
       "      <td>0.0</td>\n",
       "      <td>21015</td>\n",
       "      <td>10-19</td>\n",
       "    </tr>\n",
       "  </tbody>\n",
       "</table>\n",
       "<p>3493 rows × 13 columns</p>\n",
       "</div>"
      ],
      "text/plain": [
       "      MovieIDs                               MovieName           Category  ID  \\\n",
       "0       2487.0  Blood, Guts, Bullets and Octane (1998)      Action|Comedy  19   \n",
       "1       2325.0                          Orgazmo (1997)             Comedy  19   \n",
       "2       3489.0                             Hook (1991)  Adventure|Fantasy  26   \n",
       "3       3042.0                    Meatballs III (1987)             Comedy  23   \n",
       "4       2250.0                  Men Don't Leave (1990)              Drama  18   \n",
       "...        ...                                     ...                ...  ..   \n",
       "3488    2231.0                         Rounders (1998)        Crime|Drama  18   \n",
       "3489    3474.0                      Retroactive (1997)    Sci-Fi|Thriller  26   \n",
       "3490      64.0                    Two if by Sea (1996)     Comedy|Romance   2   \n",
       "3491    1483.0                            Crash (1996)     Drama|Thriller  13   \n",
       "3492     958.0                Lady of Burlesque (1943)     Comedy|Mystery  10   \n",
       "\n",
       "      MovieID  Ratings  TimeStamp  UserID Gender   Age  Occupation Zip-code  \\\n",
       "0        3081        4  978555317  2419.0      M  25.0         0.0    06096   \n",
       "1        3863        4  978554522  2257.0      F  18.0         4.0    59715   \n",
       "2         592        3  978146876  3421.0      M  45.0         7.0    94501   \n",
       "3        3700        4  978464211  2974.0      M  18.0         4.0    48105   \n",
       "4        2014        2  978155339  2182.0      F  25.0         4.0    60443   \n",
       "...       ...      ...        ...     ...    ...   ...         ...      ...   \n",
       "3488     2872        5  978152515  2163.0      M  18.0         0.0    87122   \n",
       "3489        1        3  978130703  3406.0      F  25.0         7.0    85214   \n",
       "3490     3468        5  978298542    64.0      M  18.0         1.0    53706   \n",
       "3491     2968        3  978202417  1454.0      M  18.0         4.0    93117   \n",
       "3492     3114        4  978225759   947.0      M  18.0         0.0    21015   \n",
       "\n",
       "     age_group  \n",
       "0        20-29  \n",
       "1        10-19  \n",
       "2        40-49  \n",
       "3        10-19  \n",
       "4        20-29  \n",
       "...        ...  \n",
       "3488     10-19  \n",
       "3489     20-29  \n",
       "3490     10-19  \n",
       "3491     10-19  \n",
       "3492     10-19  \n",
       "\n",
       "[3493 rows x 13 columns]"
      ]
     },
     "execution_count": 3,
     "metadata": {},
     "output_type": "execute_result"
    }
   ],
   "source": [
    "# Data Pull\n",
    "df=pd.read_csv(\"MovieRatings_data1.csv\")\n",
    "df"
   ]
  },
  {
   "cell_type": "code",
   "execution_count": 4,
   "metadata": {},
   "outputs": [
    {
     "name": "stdout",
     "output_type": "stream",
     "text": [
      "ClearML results page: https://app.clear.ml/projects/99e99779e15c4656a1eb7d8d9e8f789f/experiments/441940c8b79d4c73a3e2c9e56a3a2cb5/output/log\n",
      "ClearML dataset page: https://app.clear.ml/datasets/simple/99e99779e15c4656a1eb7d8d9e8f789f/experiments/441940c8b79d4c73a3e2c9e56a3a2cb5\n",
      "Uploading dataset changes (1 files compressed to 120.88 KiB) to https://files.clear.ml\n",
      "File compression and upload completed: total size 120.88 KiB, 1 chunk(s) stored (average size 120.88 KiB)\n",
      "2022-11-10 05:32:23,078 - clearml.Task - INFO - Waiting to finish uploads\n",
      "2022-11-10 05:32:23,253 - clearml.Task - INFO - Finished uploading\n"
     ]
    },
    {
     "data": {
      "text/plain": [
       "True"
      ]
     },
     "execution_count": 4,
     "metadata": {},
     "output_type": "execute_result"
    }
   ],
   "source": [
    "from clearml import Dataset\n",
    "\n",
    "# Preprocessed dataset can be stored into clearml as a dataset version\n",
    "\n",
    "dataset = Dataset.create(dataset_name='dataset1',dataset_project='Movie Rating Prediction')\n",
    "dataset.add_files('MovieRatings_data1.csv')\n",
    "dataset.upload()\n",
    "dataset.finalize()"
   ]
  },
  {
   "cell_type": "markdown",
   "metadata": {},
   "source": [
    "Exploratory Data Analysis"
   ]
  },
  {
   "cell_type": "code",
   "execution_count": 5,
   "metadata": {},
   "outputs": [
    {
     "data": {
      "text/html": [
       "<div>\n",
       "<style scoped>\n",
       "    .dataframe tbody tr th:only-of-type {\n",
       "        vertical-align: middle;\n",
       "    }\n",
       "\n",
       "    .dataframe tbody tr th {\n",
       "        vertical-align: top;\n",
       "    }\n",
       "\n",
       "    .dataframe thead th {\n",
       "        text-align: right;\n",
       "    }\n",
       "</style>\n",
       "<table border=\"1\" class=\"dataframe\">\n",
       "  <thead>\n",
       "    <tr style=\"text-align: right;\">\n",
       "      <th></th>\n",
       "      <th>MovieIDs</th>\n",
       "      <th>ID</th>\n",
       "      <th>MovieID</th>\n",
       "      <th>Ratings</th>\n",
       "      <th>TimeStamp</th>\n",
       "      <th>UserID</th>\n",
       "      <th>Age</th>\n",
       "      <th>Occupation</th>\n",
       "    </tr>\n",
       "  </thead>\n",
       "  <tbody>\n",
       "    <tr>\n",
       "      <th>count</th>\n",
       "      <td>3493.000000</td>\n",
       "      <td>3493.000000</td>\n",
       "      <td>3493.000000</td>\n",
       "      <td>3493.000000</td>\n",
       "      <td>3.493000e+03</td>\n",
       "      <td>3493.000000</td>\n",
       "      <td>3493.000000</td>\n",
       "      <td>3493.000000</td>\n",
       "    </tr>\n",
       "    <tr>\n",
       "      <th>mean</th>\n",
       "      <td>1980.906670</td>\n",
       "      <td>16.107930</td>\n",
       "      <td>1803.342972</td>\n",
       "      <td>3.558546</td>\n",
       "      <td>9.785945e+08</td>\n",
       "      <td>1937.059548</td>\n",
       "      <td>30.494131</td>\n",
       "      <td>8.239336</td>\n",
       "    </tr>\n",
       "    <tr>\n",
       "      <th>std</th>\n",
       "      <td>1152.985837</td>\n",
       "      <td>7.509145</td>\n",
       "      <td>1078.751544</td>\n",
       "      <td>1.095298</td>\n",
       "      <td>2.342297e+06</td>\n",
       "      <td>1127.187773</td>\n",
       "      <td>13.065930</td>\n",
       "      <td>6.352429</td>\n",
       "    </tr>\n",
       "    <tr>\n",
       "      <th>min</th>\n",
       "      <td>2.000000</td>\n",
       "      <td>1.000000</td>\n",
       "      <td>1.000000</td>\n",
       "      <td>1.000000</td>\n",
       "      <td>9.781252e+08</td>\n",
       "      <td>2.000000</td>\n",
       "      <td>1.000000</td>\n",
       "      <td>0.000000</td>\n",
       "    </tr>\n",
       "    <tr>\n",
       "      <th>25%</th>\n",
       "      <td>965.000000</td>\n",
       "      <td>10.000000</td>\n",
       "      <td>938.000000</td>\n",
       "      <td>3.000000</td>\n",
       "      <td>9.781535e+08</td>\n",
       "      <td>954.000000</td>\n",
       "      <td>25.000000</td>\n",
       "      <td>3.000000</td>\n",
       "    </tr>\n",
       "    <tr>\n",
       "      <th>50%</th>\n",
       "      <td>2001.000000</td>\n",
       "      <td>17.000000</td>\n",
       "      <td>1721.000000</td>\n",
       "      <td>4.000000</td>\n",
       "      <td>9.782244e+08</td>\n",
       "      <td>1933.000000</td>\n",
       "      <td>25.000000</td>\n",
       "      <td>7.000000</td>\n",
       "    </tr>\n",
       "    <tr>\n",
       "      <th>75%</th>\n",
       "      <td>2987.000000</td>\n",
       "      <td>23.000000</td>\n",
       "      <td>2692.000000</td>\n",
       "      <td>4.000000</td>\n",
       "      <td>9.782971e+08</td>\n",
       "      <td>2919.000000</td>\n",
       "      <td>35.000000</td>\n",
       "      <td>14.000000</td>\n",
       "    </tr>\n",
       "    <tr>\n",
       "      <th>max</th>\n",
       "      <td>3952.000000</td>\n",
       "      <td>28.000000</td>\n",
       "      <td>3952.000000</td>\n",
       "      <td>5.000000</td>\n",
       "      <td>1.009669e+09</td>\n",
       "      <td>3883.000000</td>\n",
       "      <td>56.000000</td>\n",
       "      <td>20.000000</td>\n",
       "    </tr>\n",
       "  </tbody>\n",
       "</table>\n",
       "</div>"
      ],
      "text/plain": [
       "          MovieIDs           ID      MovieID      Ratings     TimeStamp  \\\n",
       "count  3493.000000  3493.000000  3493.000000  3493.000000  3.493000e+03   \n",
       "mean   1980.906670    16.107930  1803.342972     3.558546  9.785945e+08   \n",
       "std    1152.985837     7.509145  1078.751544     1.095298  2.342297e+06   \n",
       "min       2.000000     1.000000     1.000000     1.000000  9.781252e+08   \n",
       "25%     965.000000    10.000000   938.000000     3.000000  9.781535e+08   \n",
       "50%    2001.000000    17.000000  1721.000000     4.000000  9.782244e+08   \n",
       "75%    2987.000000    23.000000  2692.000000     4.000000  9.782971e+08   \n",
       "max    3952.000000    28.000000  3952.000000     5.000000  1.009669e+09   \n",
       "\n",
       "            UserID          Age   Occupation  \n",
       "count  3493.000000  3493.000000  3493.000000  \n",
       "mean   1937.059548    30.494131     8.239336  \n",
       "std    1127.187773    13.065930     6.352429  \n",
       "min       2.000000     1.000000     0.000000  \n",
       "25%     954.000000    25.000000     3.000000  \n",
       "50%    1933.000000    25.000000     7.000000  \n",
       "75%    2919.000000    35.000000    14.000000  \n",
       "max    3883.000000    56.000000    20.000000  "
      ]
     },
     "execution_count": 5,
     "metadata": {},
     "output_type": "execute_result"
    }
   ],
   "source": [
    "df.describe()"
   ]
  },
  {
   "cell_type": "code",
   "execution_count": 6,
   "metadata": {},
   "outputs": [
    {
     "data": {
      "image/png": "[encoded data removed]",
      "text/plain": [
       "<Figure size 720x720 with 1 Axes>"
      ]
     },
     "metadata": {
      "needs_background": "light"
     },
     "output_type": "display_data"
    }
   ],
   "source": [
    "#Visualize user age distribution\n",
    "df['Age'].value_counts().plot(kind='barh',alpha=0.7,figsize=(10,10))\n",
    "\n",
    "plt.title(\"Distribution of users' Age\")\n",
    "plt.xlabel('Count of users')\n",
    "plt.ylabel('Age')\n",
    "\n",
    "plt.show()"
   ]
  },
  {
   "cell_type": "code",
   "execution_count": 7,
   "metadata": {},
   "outputs": [
    {
     "data": {
      "text/plain": [
       "Text(0.5, 0, 'Age')"
      ]
     },
     "execution_count": 7,
     "metadata": {},
     "output_type": "execute_result"
    },
    {
     "data": {
      "image/png": "[encoded data removed]",
      "text/plain": [
       "<Figure size 432x288 with 1 Axes>"
      ]
     },
     "metadata": {
      "needs_background": "light"
     },
     "output_type": "display_data"
    }
   ],
   "source": [
    "df.Age.plot.hist(bins=25)\n",
    "plt.title(\"Distribution of users' ages\")\n",
    "plt.ylabel('count of users')\n",
    "plt.xlabel('Age')"
   ]
  },
  {
   "cell_type": "code",
   "execution_count": 8,
   "metadata": {},
   "outputs": [
    {
     "data": {
      "text/html": [
       "<div>\n",
       "<style scoped>\n",
       "    .dataframe tbody tr th:only-of-type {\n",
       "        vertical-align: middle;\n",
       "    }\n",
       "\n",
       "    .dataframe tbody tr th {\n",
       "        vertical-align: top;\n",
       "    }\n",
       "\n",
       "    .dataframe thead th {\n",
       "        text-align: right;\n",
       "    }\n",
       "</style>\n",
       "<table border=\"1\" class=\"dataframe\">\n",
       "  <thead>\n",
       "    <tr style=\"text-align: right;\">\n",
       "      <th></th>\n",
       "      <th>Age</th>\n",
       "      <th>age_group</th>\n",
       "    </tr>\n",
       "  </thead>\n",
       "  <tbody>\n",
       "    <tr>\n",
       "      <th>0</th>\n",
       "      <td>25.0</td>\n",
       "      <td>20-29</td>\n",
       "    </tr>\n",
       "    <tr>\n",
       "      <th>1</th>\n",
       "      <td>18.0</td>\n",
       "      <td>10-19</td>\n",
       "    </tr>\n",
       "    <tr>\n",
       "      <th>2</th>\n",
       "      <td>45.0</td>\n",
       "      <td>40-49</td>\n",
       "    </tr>\n",
       "    <tr>\n",
       "      <th>5</th>\n",
       "      <td>56.0</td>\n",
       "      <td>50-59</td>\n",
       "    </tr>\n",
       "    <tr>\n",
       "      <th>12</th>\n",
       "      <td>35.0</td>\n",
       "      <td>30-39</td>\n",
       "    </tr>\n",
       "    <tr>\n",
       "      <th>24</th>\n",
       "      <td>50.0</td>\n",
       "      <td>50-59</td>\n",
       "    </tr>\n",
       "    <tr>\n",
       "      <th>26</th>\n",
       "      <td>1.0</td>\n",
       "      <td>0-9</td>\n",
       "    </tr>\n",
       "  </tbody>\n",
       "</table>\n",
       "</div>"
      ],
      "text/plain": [
       "     Age age_group\n",
       "0   25.0     20-29\n",
       "1   18.0     10-19\n",
       "2   45.0     40-49\n",
       "5   56.0     50-59\n",
       "12  35.0     30-39\n",
       "24  50.0     50-59\n",
       "26   1.0       0-9"
      ]
     },
     "execution_count": 8,
     "metadata": {},
     "output_type": "execute_result"
    }
   ],
   "source": [
    "labels = ['0-9', '10-19', '20-29', '30-39', '40-49', '50-59', '60-69', '70-79']\n",
    "df['age_group'] = pd.cut(df.Age, range(0, 81, 10), right=False, labels=labels)\n",
    "df[['Age', 'age_group']].drop_duplicates()[:10]"
   ]
  },
  {
   "cell_type": "code",
   "execution_count": 9,
   "metadata": {},
   "outputs": [
    {
     "data": {
      "image/png": "[encoded data removed]",
      "text/plain": [
       "<Figure size 720x720 with 1 Axes>"
      ]
     },
     "metadata": {
      "needs_background": "light"
     },
     "output_type": "display_data"
    }
   ],
   "source": [
    "#Visualize overall rating by users\n",
    "df['Ratings'].value_counts().plot(kind='bar',alpha=0.7,figsize=(10,10))\n",
    "\n",
    "plt.title(\"Distribution of users' Ratings\")\n",
    "plt.ylabel('count of users')\n",
    "plt.xlabel('Ratings')\n",
    "\n",
    "plt.show()"
   ]
  },
  {
   "cell_type": "markdown",
   "metadata": {},
   "source": [
    "Model Training"
   ]
  },
  {
   "cell_type": "code",
   "execution_count": 10,
   "metadata": {},
   "outputs": [],
   "source": [
    "#Training only on 500 for faster compute in the tutorial\n",
    "df=df[:500]"
   ]
  },
  {
   "cell_type": "code",
   "execution_count": 11,
   "metadata": {},
   "outputs": [],
   "source": [
    "features = df[['MovieID','Age','Occupation']].values\n",
    "\n",
    "labels = df['Ratings'].values"
   ]
  },
  {
   "cell_type": "code",
   "execution_count": 12,
   "metadata": {},
   "outputs": [],
   "source": [
    "#Create train and test data set\n",
    "train, test, train_labels, test_labels = train_test_split(features,labels,test_size=0.33,random_state=42)"
   ]
  },
  {
   "cell_type": "code",
   "execution_count": 13,
   "metadata": {},
   "outputs": [],
   "source": [
    "from sklearn.model_selection import learning_curve\n",
    "\n",
    "def plot_learning_curve(estimator, title, X, y, axes=None, ylim=None, cv=None, n_jobs=None,\n",
    "                        train_sizes=np.linspace(.1, 1.0, 5)):\n",
    "    \n",
    "    if axes is None:\n",
    "        _, axes = plt.subplots(1, 3, figsize=(20, 5))\n",
    "\n",
    "    axes[0].set_title(title)\n",
    "    if ylim is not None:\n",
    "        axes[0].set_ylim(*ylim)\n",
    "    axes[0].set_xlabel(\"Training examples\")\n",
    "    axes[0].set_ylabel(\"Score\")\n",
    "\n",
    "    train_sizes, train_scores, test_scores, fit_times, _ = \\\n",
    "        learning_curve(estimator, X, y, cv=cv, n_jobs=n_jobs,\n",
    "                       train_sizes=train_sizes,\n",
    "                       return_times=True)\n",
    "    # print(\"TRAINING SCORES\",train_scores)\n",
    "    train_scores_mean = np.mean(train_scores, axis=1)\n",
    "    train_scores_std = np.std(train_scores, axis=1)\n",
    "    test_scores_mean = np.mean(test_scores, axis=1)\n",
    "    test_scores_std = np.std(test_scores, axis=1)\n",
    "    fit_times_mean = np.mean(fit_times, axis=1)\n",
    "    fit_times_std = np.std(fit_times, axis=1)\n",
    "    \n",
    "    # Plot learning curve\n",
    "    axes[0].grid()\n",
    "    axes[0].fill_between(train_sizes, train_scores_mean - train_scores_std,\n",
    "                         train_scores_mean + train_scores_std, alpha=0.1,\n",
    "                         color=\"r\")\n",
    "    axes[0].fill_between(train_sizes, test_scores_mean - test_scores_std,\n",
    "                         test_scores_mean + test_scores_std, alpha=0.1,\n",
    "                         color=\"g\")\n",
    "    axes[0].plot(train_sizes, train_scores_mean, 'o-', color=\"r\",\n",
    "                 label=\"Training score\")\n",
    "    axes[0].plot(train_sizes, test_scores_mean, 'o-', color=\"g\",\n",
    "                 label=\"Cross-validation score\")\n",
    "    axes[0].legend(loc=\"best\")\n",
    "\n",
    "    # Plot n_samples vs fit_times\n",
    "    axes[1].grid()\n",
    "    axes[1].plot(train_sizes, fit_times_mean, 'o-')\n",
    "    axes[1].fill_between(train_sizes, fit_times_mean - fit_times_std,\n",
    "                         fit_times_mean + fit_times_std, alpha=0.1)\n",
    "    axes[1].set_xlabel(\"Training examples\")\n",
    "    axes[1].set_ylabel(\"fit_times\")\n",
    "    axes[1].set_title(\"Scalability of the model\")\n",
    "\n",
    "    # Plot fit_time vs score\n",
    "    axes[2].grid()\n",
    "    axes[2].plot(fit_times_mean, test_scores_mean, 'o-')\n",
    "    axes[2].fill_between(fit_times_mean, test_scores_mean - test_scores_std,\n",
    "                         test_scores_mean + test_scores_std, alpha=0.1)\n",
    "    axes[2].set_xlabel(\"fit_times\")\n",
    "    axes[2].set_ylabel(\"Score\")\n",
    "    axes[2].set_title(\"Performance of the model\")\n",
    "\n",
    "    return plt,train_scores_mean,test_scores_mean,fit_times_mean\n"
   ]
  },
  {
   "cell_type": "markdown",
   "metadata": {},
   "source": [
    "Logging Accuracy and Time to Fit as scalers in clear ML"
   ]
  },
  {
   "cell_type": "code",
   "execution_count": 15,
   "metadata": {},
   "outputs": [],
   "source": [
    "USER_MODEL_VERSION=2"
   ]
  },
  {
   "cell_type": "code",
   "execution_count": 20,
   "metadata": {},
   "outputs": [],
   "source": [
    "# Set script parameters\n",
    "task_params = {'criterion': 'entropy',\n",
    " 'max_depth': 20,\n",
    " 'max_features': 'auto',\n",
    " 'splitter': 'best'}\n",
    " \n",
    "task_params = task.connect(task_params)\n"
   ]
  },
  {
   "cell_type": "code",
   "execution_count": 21,
   "metadata": {},
   "outputs": [],
   "source": [
    "import matplotlib.pyplot as plt\n",
    "import numpy as np\n",
    "from sklearn.datasets import load_digits\n",
    "from sklearn.model_selection import ShuffleSplit\n",
    "from sklearn.model_selection import learning_curve\n",
    "from sklearn.naive_bayes import GaussianNB\n",
    "from sklearn.svm import SVC\n",
    "from clearml import Task, Logger\n",
    "\n",
    "# Connecting ClearML with the current process,\n",
    "# from here on everything is logged automatically\n",
    "\n",
    "\n",
    "Task.current_task()\n",
    "\n",
    "fig, fig_axes = plt.subplots(1, 3, figsize=(30, 10))\n",
    "\n",
    "#Create train and test data set\n",
    "# train, test, train_labels, test_labels = train_test_split(features,labels,test_size=0.33,random_state=42)\n",
    "\n",
    "X, y =features, labels\n",
    "title = \"Learning Curves (Random Forest)\"\n",
    "# Cross validation with 100 iterations to get smoother mean test and train\n",
    "# score curves, each time with 20% data randomly selected as a validation set.\n",
    "\n",
    "cv = ShuffleSplit(n_splits=100, test_size=0.2, random_state=0)\n",
    "\n",
    "estimator = DecisionTreeClassifier(**task_params)\n",
    "\n",
    "plt,a,b,c=plot_learning_curve(estimator, title, X, y, axes=fig_axes, ylim=(0.7, 1.01), cv=cv, n_jobs=4)\n",
    "\n",
    "plt.show()\n",
    "\n",
    "epoch=USER_MODEL_VERSION\n",
    "\n",
    "Logger.current_logger().report_scalar(title='Train Accuracy', \n",
    "            series='train_scores_mean', value=a.mean(), iteration=epoch)\n",
    "Logger.current_logger().report_scalar(title='Test Accuracy', \n",
    "            series='test_scores_mean', value=b.mean(), iteration=epoch)\n",
    "Logger.current_logger().report_scalar(title='Fit Time', \n",
    "            series='fit_times_mean', value=c.mean(), iteration=epoch)\n"
   ]
  },
  {
   "cell_type": "code",
   "execution_count": null,
   "metadata": {},
   "outputs": [
    {
     "name": "stderr",
     "output_type": "stream",
     "text": [
      "C:\\Users\\David\\AppData\\Roaming\\Python\\Python39\\site-packages\\sklearn\\tree\\_classes.py:298: FutureWarning:\n",
      "\n",
      "`max_features='auto'` has been deprecated in 1.1 and will be removed in 1.3. To keep the past behaviour, explicitly set `max_features='sqrt'`.\n",
      "\n"
     ]
    },
    {
     "name": "stdout",
     "output_type": "stream",
     "text": [
      "Model Stored with Accuracy 70.75\n"
     ]
    },
    {
     "name": "stdout",
     "output_type": "stream",
     "text": [
      "ClearML Monitor: Reporting detected, reverting back to iteration based reporting\n"
     ]
    }
   ],
   "source": [
    "# Store the Model into ClearML as an Artifact\n",
    "\n",
    "decision_tree = DecisionTreeClassifier(**task_params)\n",
    "decision_tree.fit(train, train_labels)\n",
    "Y_pred = decision_tree.predict(test)\n",
    "decision_tree.score(train, train_labels)\n",
    "acc_decision_tree = round(decision_tree.score(train, train_labels) * 100, 2)\n",
    "joblib.dump(decision_tree, 'decision_tree_dtom_data1.pkl', compress=True)\n",
    "print(\"Model Stored with Accuracy\",acc_decision_tree)"
   ]
  },
  {
   "cell_type": "code",
   "execution_count": null,
   "metadata": {},
   "outputs": [],
   "source": []
  },
  {
   "cell_type": "code",
   "execution_count": null,
   "metadata": {},
   "outputs": [],
   "source": []
  }
 ],
 "metadata": {
  "kernelspec": {
   "display_name": "Python 3.9.13 ('clearml')",
   "language": "python",
   "name": "python3"
  },
  "language_info": {
   "codemirror_mode": {
    "name": "ipython",
    "version": 3
   },
   "file_extension": ".py",
   "mimetype": "text/x-python",
   "name": "python",
   "nbconvert_exporter": "python",
   "pygments_lexer": "ipython3",
   "version": "3.9.13"
  },
  "orig_nbformat": 4,
  "vscode": {
   "interpreter": {
    "hash": "cea2ad9f411150eafff34b9ddb004ce6ab8779fabde9f0e696c28653153f13c1"
   }
  }
 },
 "nbformat": 4,
 "nbformat_minor": 2
}
